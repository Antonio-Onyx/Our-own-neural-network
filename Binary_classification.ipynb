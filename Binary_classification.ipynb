{
 "cells": [
  {
   "cell_type": "code",
   "execution_count": 1,
   "metadata": {},
   "outputs": [],
   "source": [
    "from nodos import PreActivation, Sigmoide, CrossEntropy\n",
    "import numpy as np\n",
    "from sklearn.datasets import make_classification\n",
    "from sklearn.model_selection import train_test_split\n",
    "import matplotlib.pyplot as plt\n",
    "from tqdm import tqdm\n",
    "%matplotlib inline"
   ]
  },
  {
   "cell_type": "code",
   "execution_count": 2,
   "metadata": {},
   "outputs": [],
   "source": [
    "# vamos a generar nuestros datos\n",
    "X, y = make_classification(n_samples=1000, n_features=2, n_redundant=0, n_informative=2, random_state=10)\n",
    "x_train, x_test, y_train, y_test = train_test_split(X, y, test_size=0.3)"
   ]
  },
  {
   "cell_type": "code",
   "execution_count": 3,
   "metadata": {},
   "outputs": [],
   "source": [
    "#vamos a inicializar nuestros nodos\n",
    "\n",
    "#nodo de pre activacion\n",
    "pre_activacion = PreActivation(input_size=x_train.shape[1], output_size=1)\n",
    "\n",
    "#nodo de activacion\n",
    "activacion = Sigmoide()\n",
    "\n",
    "#nodo de funcion objetivo\n",
    "cross_entropy = CrossEntropy()"
   ]
  },
  {
   "cell_type": "code",
   "execution_count": 7,
   "metadata": {},
   "outputs": [],
   "source": [
    "# inicializamos nuestras epochs y tasa de aprendizaje\n",
    "epochs = 100\n",
    "lr = 0.1\n",
    "\n",
    "# bueno este es el paso forward\n",
    "z = pre_activacion.forward(x_train)\n",
    "y_pred = activacion.forward(z)\n",
    "loss = cross_entropy.forward(y_pred, y_train)\n",
    "\n",
    "# ahora viene el paso backward\n",
    "grad_loss = cross_entropy.backward(y_pred, y_train)\n",
    "grad_activacion = activacion.backward(grad_loss)\n",
    "grad_weight, grad_bias = pre_activacion.backward(grad_activacion)\n",
    "\n",
    "# actualizacion de los pesos\n",
    "pre_activacion.weight -= lr * grad_weight\n",
    "pre_activacion.bias -= lr * grad_bias"
   ]
  }
 ],
 "metadata": {
  "kernelspec": {
   "display_name": "redes_neuronales",
   "language": "python",
   "name": "python3"
  },
  "language_info": {
   "codemirror_mode": {
    "name": "ipython",
    "version": 3
   },
   "file_extension": ".py",
   "mimetype": "text/x-python",
   "name": "python",
   "nbconvert_exporter": "python",
   "pygments_lexer": "ipython3",
   "version": "3.11.8"
  }
 },
 "nbformat": 4,
 "nbformat_minor": 2
}
